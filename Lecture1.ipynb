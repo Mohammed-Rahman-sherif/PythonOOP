{
 "cells": [
  {
   "cell_type": "code",
   "execution_count": 1,
   "id": "839a4137",
   "metadata": {},
   "outputs": [],
   "source": [
    "class Student:\n",
    "    def __init__(self, name, number, score):\n",
    "        self.name = name\n",
    "        self.number = number\n",
    "        self.score = score"
   ]
  },
  {
   "cell_type": "code",
   "execution_count": 2,
   "id": "337e3fa0",
   "metadata": {},
   "outputs": [],
   "source": [
    "student1 = Student(\"Sherif\", 1234, 100)"
   ]
  },
  {
   "cell_type": "code",
   "execution_count": 3,
   "id": "a13742e3",
   "metadata": {},
   "outputs": [
    {
     "data": {
      "text/plain": [
       "<__main__.Student at 0x1a8ff9c5460>"
      ]
     },
     "execution_count": 3,
     "metadata": {},
     "output_type": "execute_result"
    }
   ],
   "source": [
    "student1"
   ]
  },
  {
   "cell_type": "code",
   "execution_count": 4,
   "id": "bab3b68e",
   "metadata": {},
   "outputs": [
    {
     "data": {
      "text/plain": [
       "'Sherif'"
      ]
     },
     "execution_count": 4,
     "metadata": {},
     "output_type": "execute_result"
    }
   ],
   "source": [
    "student1.name"
   ]
  },
  {
   "cell_type": "code",
   "execution_count": 5,
   "id": "f356e078",
   "metadata": {},
   "outputs": [
    {
     "data": {
      "text/plain": [
       "1234"
      ]
     },
     "execution_count": 5,
     "metadata": {},
     "output_type": "execute_result"
    }
   ],
   "source": [
    "student1.number"
   ]
  },
  {
   "cell_type": "code",
   "execution_count": 7,
   "id": "3af945f4",
   "metadata": {},
   "outputs": [],
   "source": [
    "student2 = Student(\"Rahman\", 9876, 100)"
   ]
  },
  {
   "cell_type": "code",
   "execution_count": 8,
   "id": "032e03b5",
   "metadata": {},
   "outputs": [
    {
     "data": {
      "text/plain": [
       "<__main__.Student at 0x1a8ff9e6c10>"
      ]
     },
     "execution_count": 8,
     "metadata": {},
     "output_type": "execute_result"
    }
   ],
   "source": [
    "student2"
   ]
  },
  {
   "cell_type": "code",
   "execution_count": 9,
   "id": "dffffb3d",
   "metadata": {},
   "outputs": [
    {
     "data": {
      "text/plain": [
       "100"
      ]
     },
     "execution_count": 9,
     "metadata": {},
     "output_type": "execute_result"
    }
   ],
   "source": [
    "student2.score"
   ]
  },
  {
   "cell_type": "code",
   "execution_count": null,
   "id": "f8ef2c05",
   "metadata": {},
   "outputs": [],
   "source": []
  }
 ],
 "metadata": {
  "kernelspec": {
   "display_name": "Python 3 (ipykernel)",
   "language": "python",
   "name": "python3"
  },
  "language_info": {
   "codemirror_mode": {
    "name": "ipython",
    "version": 3
   },
   "file_extension": ".py",
   "mimetype": "text/x-python",
   "name": "python",
   "nbconvert_exporter": "python",
   "pygments_lexer": "ipython3",
   "version": "3.8.5"
  }
 },
 "nbformat": 4,
 "nbformat_minor": 5
}
