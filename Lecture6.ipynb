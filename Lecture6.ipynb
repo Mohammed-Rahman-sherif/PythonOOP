{
 "cells": [
  {
   "cell_type": "code",
   "execution_count": 100,
   "id": "c8c3405b",
   "metadata": {},
   "outputs": [],
   "source": [
    "class Laptop:\n",
    "    def __init__(self, name, model, price):\n",
    "        self.name = name\n",
    "        self.model = model\n",
    "        #self.price = price\n",
    "        \n",
    "        '''\n",
    "        if price > 0:\n",
    "            self.price = price\n",
    "        else:\n",
    "            self.price = 0\n",
    "            '''\n",
    "        self.price = max(price, 0)\n",
    "        #self.allcombined = f\"{self.name} {self.model} and the price is {self.price}\"\n",
    "    @property\n",
    "    def allcombined(self):\n",
    "        return f\"{self.name} {self.model} and the price is {self.price}\""
   ]
  },
  {
   "cell_type": "code",
   "execution_count": 96,
   "id": "ee1ed4de",
   "metadata": {},
   "outputs": [],
   "source": [
    "product1 = Laptop(\"Asus\", \"tuf gaming\", 115000)"
   ]
  },
  {
   "cell_type": "code",
   "execution_count": 97,
   "id": "1129060c",
   "metadata": {},
   "outputs": [
    {
     "data": {
      "text/plain": [
       "{'name': 'Asus', 'model': 'tuf gaming', 'price': 115000}"
      ]
     },
     "execution_count": 97,
     "metadata": {},
     "output_type": "execute_result"
    }
   ],
   "source": [
    "product1.__dict__"
   ]
  },
  {
   "cell_type": "code",
   "execution_count": 101,
   "id": "18415a5f",
   "metadata": {},
   "outputs": [],
   "source": [
    "product2 = Laptop(\"Dell\", \"mh223\", -80000)"
   ]
  },
  {
   "cell_type": "code",
   "execution_count": 86,
   "id": "da024968",
   "metadata": {},
   "outputs": [
    {
     "data": {
      "text/plain": [
       "0"
      ]
     },
     "execution_count": 86,
     "metadata": {},
     "output_type": "execute_result"
    }
   ],
   "source": [
    "product2.price"
   ]
  },
  {
   "cell_type": "code",
   "execution_count": 67,
   "id": "445d12b0",
   "metadata": {},
   "outputs": [],
   "source": [
    "product2.name = \"Hp\""
   ]
  },
  {
   "cell_type": "code",
   "execution_count": 88,
   "id": "56f15a3f",
   "metadata": {},
   "outputs": [
    {
     "data": {
      "text/plain": [
       "{'name': 'Dell', 'model': 'mh223', 'price': 0}"
      ]
     },
     "execution_count": 88,
     "metadata": {},
     "output_type": "execute_result"
    }
   ],
   "source": [
    "product2.__dict__"
   ]
  },
  {
   "cell_type": "code",
   "execution_count": 93,
   "id": "ee2e1f1d",
   "metadata": {},
   "outputs": [
    {
     "data": {
      "text/plain": [
       "<bound method Laptop.allcombined of <__main__.Laptop object at 0x000002D42E3649D0>>"
      ]
     },
     "execution_count": 93,
     "metadata": {},
     "output_type": "execute_result"
    }
   ],
   "source": [
    "product2.allcombined"
   ]
  },
  {
   "cell_type": "code",
   "execution_count": 94,
   "id": "d54dc4f7",
   "metadata": {},
   "outputs": [
    {
     "data": {
      "text/plain": [
       "'Dell mh223 and the price is 0'"
      ]
     },
     "execution_count": 94,
     "metadata": {},
     "output_type": "execute_result"
    }
   ],
   "source": [
    "product2.allcombined()"
   ]
  },
  {
   "cell_type": "code",
   "execution_count": 102,
   "id": "367f3123",
   "metadata": {},
   "outputs": [
    {
     "data": {
      "text/plain": [
       "'Dell mh223 and the price is 0'"
      ]
     },
     "execution_count": 102,
     "metadata": {},
     "output_type": "execute_result"
    }
   ],
   "source": [
    "product2.allcombined             #brackets removed b"
   ]
  },
  {
   "cell_type": "code",
   "execution_count": null,
   "id": "b4e5308d",
   "metadata": {},
   "outputs": [],
   "source": []
  }
 ],
 "metadata": {
  "kernelspec": {
   "display_name": "Python 3 (ipykernel)",
   "language": "python",
   "name": "python3"
  },
  "language_info": {
   "codemirror_mode": {
    "name": "ipython",
    "version": 3
   },
   "file_extension": ".py",
   "mimetype": "text/x-python",
   "name": "python",
   "nbconvert_exporter": "python",
   "pygments_lexer": "ipython3",
   "version": "3.8.5"
  }
 },
 "nbformat": 4,
 "nbformat_minor": 5
}
