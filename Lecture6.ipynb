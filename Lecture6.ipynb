{
 "cells": [
  {
   "cell_type": "code",
   "execution_count": 100,
   "id": "595fc3b4",
   "metadata": {},
   "outputs": [],
   "source": [
    "class Laptop:\n",
    "    def __init__(self, name, model, price):\n",
    "        self.name = name\n",
    "        self.model = model\n",
    "        #self.price = price\n",
    "        \n",
    "        '''\n",
    "        if price > 0:\n",
    "            self.price = price\n",
    "        else:\n",
    "            self.price = 0\n",
    "            '''\n",
    "        self.price = max(price, 0)\n",
    "        #self.allcombined = f\"{self.name} {self.model} and the price is {self.price}\"\n",
    "    @property\n",
    "    def allcombined(self):\n",
    "        return f\"{self.name} {self.model} and the price is {self.price}\""
   ]
  },
  {
   "cell_type": "code",
   "execution_count": 96,
   "id": "3ddfbf19",
   "metadata": {},
   "outputs": [],
   "source": [
    "product1 = Laptop(\"Asus\", \"tuf gaming\", 115000)"
   ]
  },
  {
   "cell_type": "code",
   "execution_count": 97,
   "id": "acac2dd1",
   "metadata": {},
   "outputs": [
    {
     "data": {
      "text/plain": [
       "{'name': 'Asus', 'model': 'tuf gaming', 'price': 115000}"
      ]
     },
     "execution_count": 97,
     "metadata": {},
     "output_type": "execute_result"
    }
   ],
   "source": [
    "product1.__dict__"
   ]
  },
  {
   "cell_type": "code",
   "execution_count": 101,
   "id": "57267b2c",
   "metadata": {},
   "outputs": [],
   "source": [
    "product2 = Laptop(\"Dell\", \"mh223\", -80000)"
   ]
  },
  {
   "cell_type": "code",
   "execution_count": 86,
   "id": "a1f06286",
   "metadata": {},
   "outputs": [
    {
     "data": {
      "text/plain": [
       "0"
      ]
     },
     "execution_count": 86,
     "metadata": {},
     "output_type": "execute_result"
    }
   ],
   "source": [
    "product2.price"
   ]
  },
  {
   "cell_type": "code",
   "execution_count": 104,
   "id": "4dde4ada",
   "metadata": {},
   "outputs": [],
   "source": [
    "product2.name = \"Hp\""
   ]
  },
  {
   "cell_type": "code",
   "execution_count": 105,
   "id": "7ef4c703",
   "metadata": {},
   "outputs": [
    {
     "data": {
      "text/plain": [
       "{'name': 'Hp', 'model': 'mh223', 'price': 0}"
      ]
     },
     "execution_count": 105,
     "metadata": {},
     "output_type": "execute_result"
    }
   ],
   "source": [
    "product2.__dict__"
   ]
  },
  {
   "cell_type": "code",
   "execution_count": 93,
   "id": "f4274cf4",
   "metadata": {},
   "outputs": [
    {
     "data": {
      "text/plain": [
       "<bound method Laptop.allcombined of <__main__.Laptop object at 0x000002D42E3649D0>>"
      ]
     },
     "execution_count": 93,
     "metadata": {},
     "output_type": "execute_result"
    }
   ],
   "source": [
    "product2.allcombined"
   ]
  },
  {
   "cell_type": "code",
   "execution_count": 94,
   "id": "6d9fafe8",
   "metadata": {},
   "outputs": [
    {
     "data": {
      "text/plain": [
       "'Dell mh223 and the price is 0'"
      ]
     },
     "execution_count": 94,
     "metadata": {},
     "output_type": "execute_result"
    }
   ],
   "source": [
    "product2.allcombined()"
   ]
  },
  {
   "cell_type": "code",
   "execution_count": 103,
   "id": "21c9cc60",
   "metadata": {},
   "outputs": [
    {
     "data": {
      "text/plain": [
       "'Dell mh223 and the price is 0'"
      ]
     },
     "execution_count": 103,
     "metadata": {},
     "output_type": "execute_result"
    }
   ],
   "source": [
    "product2.allcombined             #brackets removed because of @property"
   ]
  },
  {
   "cell_type": "code",
   "execution_count": null,
   "id": "754ba27a",
   "metadata": {},
   "outputs": [],
   "source": []
  }
 ],
 "metadata": {
  "kernelspec": {
   "display_name": "Python 3 (ipykernel)",
   "language": "python",
   "name": "python3"
  },
  "language_info": {
   "codemirror_mode": {
    "name": "ipython",
    "version": 3
   },
   "file_extension": ".py",
   "mimetype": "text/x-python",
   "name": "python",
   "nbconvert_exporter": "python",
   "pygments_lexer": "ipython3",
   "version": "3.8.5"
  }
 },
 "nbformat": 4,
 "nbformat_minor": 5
}
