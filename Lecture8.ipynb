{
 "cells": [
  {
   "cell_type": "code",
   "execution_count": 16,
   "id": "8e942b6f",
   "metadata": {},
   "outputs": [],
   "source": [
    "class Date:\n",
    "    def __init__(self, year, month, date):\n",
    "        self.year = year\n",
    "        self.month = month\n",
    "        self.date = date\n",
    "    def arrangement(self):\n",
    "        return str(self.date) + '-' + str(self.month) + '-' + str(self.year)"
   ]
  },
  {
   "cell_type": "code",
   "execution_count": 17,
   "id": "5df171fd",
   "metadata": {},
   "outputs": [],
   "source": [
    "d1 = Date(2022, 3, 15)"
   ]
  },
  {
   "cell_type": "code",
   "execution_count": 18,
   "id": "98d638e6",
   "metadata": {},
   "outputs": [
    {
     "data": {
      "text/plain": [
       "{'year': 2022, 'month': 3, 'date': 15}"
      ]
     },
     "execution_count": 18,
     "metadata": {},
     "output_type": "execute_result"
    }
   ],
   "source": [
    "d1.__dict__"
   ]
  },
  {
   "cell_type": "code",
   "execution_count": 19,
   "id": "83201a41",
   "metadata": {},
   "outputs": [
    {
     "data": {
      "text/plain": [
       "'15-3-2022'"
      ]
     },
     "execution_count": 19,
     "metadata": {},
     "output_type": "execute_result"
    }
   ],
   "source": [
    "d1.arrangement()"
   ]
  },
  {
   "cell_type": "code",
   "execution_count": null,
   "id": "c6f23006",
   "metadata": {},
   "outputs": [],
   "source": []
  }
 ],
 "metadata": {
  "kernelspec": {
   "display_name": "base",
   "language": "python",
   "name": "python3"
  },
  "language_info": {
   "codemirror_mode": {
    "name": "ipython",
    "version": 3
   },
   "file_extension": ".py",
   "mimetype": "text/x-python",
   "name": "python",
   "nbconvert_exporter": "python",
   "pygments_lexer": "ipython3",
   "version": "3.8.5 (default, Sep  3 2020, 21:29:08) [MSC v.1916 64 bit (AMD64)]"
  },
  "vscode": {
   "interpreter": {
    "hash": "7bab40122a2eb413b2b62974fba7d04ef1e884ffb96a3c9991e518175d70181c"
   }
  }
 },
 "nbformat": 4,
 "nbformat_minor": 5
}
