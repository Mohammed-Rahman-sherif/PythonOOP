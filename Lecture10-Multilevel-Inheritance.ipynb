{
 "cells": [
  {
   "attachments": {},
   "cell_type": "markdown",
   "metadata": {},
   "source": [
    "Base Class(Super Class) - Grand parent class - Phone\n",
    "    |                |             |\n",
    "Derived Class(Sub Class) - parent class - Smartphone\n",
    "    |                |             |\n",
    "Derived Class(Sub Class) - child class - Flagship"
   ]
  },
  {
   "cell_type": "code",
   "execution_count": 1,
   "metadata": {},
   "outputs": [],
   "source": [
    "class Phone:\n",
    "    def __init__(self, brand, model_name, price):\n",
    "        self.brand = brand\n",
    "        self.model_name = model_name\n",
    "        self.price = price\n",
    "    \n",
    "    @staticmethod\n",
    "    def call_customer(number):\n",
    "        return f'Calling to Customer {number}...'\n",
    "\n",
    "    def product_details(self):\n",
    "        return f'{self.brand}, {self.model_name}, {self.price}'"
   ]
  },
  {
   "cell_type": "code",
   "execution_count": 2,
   "metadata": {},
   "outputs": [],
   "source": [
    "class Smartphone(Phone):\n",
    "    def __init__(self, brand, model_name, price, rear_camera):\n",
    "        super().__init__(brand, model_name, price)\n",
    "        self.rear_camera = rear_camera"
   ]
  },
  {
   "cell_type": "code",
   "execution_count": 3,
   "metadata": {},
   "outputs": [],
   "source": [
    "class Flagship(Smartphone):\n",
    "    def __init__(self, brand, model_name, price, rear_camera, front_camera, processor):\n",
    "        super().__init__(brand, model_name, price, rear_camera)\n",
    "        self.front_camera = front_camera\n",
    "        self.processor = processor\n",
    "\n",
    "    def Flagship_design(self):\n",
    "        return f'Brand: {self.brand}, \\\n",
    "            Model_name: {self.model_name}, \\\n",
    "            Price: {self.price}, \\\n",
    "            Rear_camera: {self.rear_camera}, \\\n",
    "            Front_camera: {self.front_camera}, \\\n",
    "            Processor: {self.processor}'"
   ]
  },
  {
   "cell_type": "code",
   "execution_count": 4,
   "metadata": {},
   "outputs": [],
   "source": [
    "phone1 = Phone('Samsung', 'S23 ultra', '127000')"
   ]
  },
  {
   "cell_type": "code",
   "execution_count": 5,
   "metadata": {},
   "outputs": [
    {
     "data": {
      "text/plain": [
       "{'brand': 'Samsung', 'model_name': 'S23 ultra', 'price': '127000'}"
      ]
     },
     "execution_count": 5,
     "metadata": {},
     "output_type": "execute_result"
    }
   ],
   "source": [
    "phone1.__dict__"
   ]
  },
  {
   "cell_type": "code",
   "execution_count": 6,
   "metadata": {},
   "outputs": [
    {
     "data": {
      "text/plain": [
       "'Calling to Customer 1234567890...'"
      ]
     },
     "execution_count": 6,
     "metadata": {},
     "output_type": "execute_result"
    }
   ],
   "source": [
    "phone1.call_customer(1234567890)"
   ]
  },
  {
   "cell_type": "code",
   "execution_count": 7,
   "metadata": {},
   "outputs": [
    {
     "data": {
      "text/plain": [
       "'Samsung, S23 ultra, 127000'"
      ]
     },
     "execution_count": 7,
     "metadata": {},
     "output_type": "execute_result"
    }
   ],
   "source": [
    "phone1.product_details()"
   ]
  },
  {
   "cell_type": "code",
   "execution_count": 8,
   "metadata": {},
   "outputs": [],
   "source": [
    "phone2 = Smartphone('Iqoo', '7', 32000, '64MP')"
   ]
  },
  {
   "cell_type": "code",
   "execution_count": 9,
   "metadata": {},
   "outputs": [
    {
     "data": {
      "text/plain": [
       "'Iqoo, 7, 32000'"
      ]
     },
     "execution_count": 9,
     "metadata": {},
     "output_type": "execute_result"
    }
   ],
   "source": [
    "phone2.product_details()"
   ]
  },
  {
   "cell_type": "code",
   "execution_count": 10,
   "metadata": {},
   "outputs": [],
   "source": [
    "phone3 = Flagship(brand='IPhone', model_name='XR', price='50000', rear_camera='12MP', front_camera='12MP', processor='M1')"
   ]
  },
  {
   "cell_type": "code",
   "execution_count": 11,
   "metadata": {},
   "outputs": [
    {
     "data": {
      "text/plain": [
       "{'brand': 'IPhone',\n",
       " 'model_name': 'XR',\n",
       " 'price': '50000',\n",
       " 'rear_camera': '12MP',\n",
       " 'front_camera': '12MP',\n",
       " 'processor': 'M1'}"
      ]
     },
     "execution_count": 11,
     "metadata": {},
     "output_type": "execute_result"
    }
   ],
   "source": [
    "phone3.__dict__"
   ]
  },
  {
   "cell_type": "code",
   "execution_count": 12,
   "metadata": {},
   "outputs": [
    {
     "data": {
      "text/plain": [
       "'Brand: IPhone,             Model_name: XR,             Price: 50000,             Rear_camera: 12MP,             Front_camera: 12MP,             Processor: M1'"
      ]
     },
     "execution_count": 12,
     "metadata": {},
     "output_type": "execute_result"
    }
   ],
   "source": [
    "phone3.Flagship_design()"
   ]
  }
 ],
 "metadata": {
  "kernelspec": {
   "display_name": "base",
   "language": "python",
   "name": "python3"
  },
  "language_info": {
   "codemirror_mode": {
    "name": "ipython",
    "version": 3
   },
   "file_extension": ".py",
   "mimetype": "text/x-python",
   "name": "python",
   "nbconvert_exporter": "python",
   "pygments_lexer": "ipython3",
   "version": "3.8.5"
  },
  "orig_nbformat": 4,
  "vscode": {
   "interpreter": {
    "hash": "7bab40122a2eb413b2b62974fba7d04ef1e884ffb96a3c9991e518175d70181c"
   }
  }
 },
 "nbformat": 4,
 "nbformat_minor": 2
}
