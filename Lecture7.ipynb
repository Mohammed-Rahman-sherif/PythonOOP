{
 "cells": [
  {
   "cell_type": "code",
   "execution_count": 22,
   "id": "63808311",
   "metadata": {},
   "outputs": [],
   "source": [
    "class Student:\n",
    "    def __init__(self, name, age):\n",
    "        self.name = name\n",
    "        self.age = age\n",
    "        \n",
    "    @staticmethod    \n",
    "    def statement():\n",
    "        print(\"Static method executed\")"
   ]
  },
  {
   "cell_type": "code",
   "execution_count": 23,
   "id": "41eb295b",
   "metadata": {},
   "outputs": [],
   "source": [
    "s1 = Student(\"Sherif\", 20)"
   ]
  },
  {
   "cell_type": "code",
   "execution_count": 24,
   "id": "5d571535",
   "metadata": {},
   "outputs": [
    {
     "data": {
      "text/plain": [
       "{'name': 'Sherif', 'age': 20}"
      ]
     },
     "execution_count": 24,
     "metadata": {},
     "output_type": "execute_result"
    }
   ],
   "source": [
    "s1.__dict__"
   ]
  },
  {
   "cell_type": "code",
   "execution_count": 16,
   "id": "2e3766f5",
   "metadata": {},
   "outputs": [
    {
     "ename": "TypeError",
     "evalue": "statement() takes 0 positional arguments but 1 was given",
     "output_type": "error",
     "traceback": [
      "\u001b[1;31m---------------------------------------------------------------------------\u001b[0m",
      "\u001b[1;31mTypeError\u001b[0m                                 Traceback (most recent call last)",
      "\u001b[1;32m~\\AppData\\Local\\Temp/ipykernel_19068/3759653488.py\u001b[0m in \u001b[0;36m<module>\u001b[1;34m\u001b[0m\n\u001b[1;32m----> 1\u001b[1;33m \u001b[0ms1\u001b[0m\u001b[1;33m.\u001b[0m\u001b[0mstatement\u001b[0m\u001b[1;33m(\u001b[0m\u001b[1;33m)\u001b[0m\u001b[1;33m\u001b[0m\u001b[1;33m\u001b[0m\u001b[0m\n\u001b[0m",
      "\u001b[1;31mTypeError\u001b[0m: statement() takes 0 positional arguments but 1 was given"
     ]
    }
   ],
   "source": [
    "s1.statement()"
   ]
  },
  {
   "cell_type": "code",
   "execution_count": 25,
   "id": "26de8d0b",
   "metadata": {},
   "outputs": [
    {
     "name": "stdout",
     "output_type": "stream",
     "text": [
      "Static method executed\n"
     ]
    }
   ],
   "source": [
    "s1.statement()             #Executed because of @staticmethod"
   ]
  },
  {
   "cell_type": "code",
   "execution_count": null,
   "id": "32439aa3",
   "metadata": {},
   "outputs": [],
   "source": []
  }
 ],
 "metadata": {
  "kernelspec": {
   "display_name": "Python 3 (ipykernel)",
   "language": "python",
   "name": "python3"
  },
  "language_info": {
   "codemirror_mode": {
    "name": "ipython",
    "version": 3
   },
   "file_extension": ".py",
   "mimetype": "text/x-python",
   "name": "python",
   "nbconvert_exporter": "python",
   "pygments_lexer": "ipython3",
   "version": "3.8.5"
  }
 },
 "nbformat": 4,
 "nbformat_minor": 5
}
