{
 "cells": [
  {
   "cell_type": "code",
   "execution_count": 1,
   "id": "69a5a66f",
   "metadata": {},
   "outputs": [],
   "source": [
    "class Student:\n",
    "    def __init__(abc, name, number, score):\n",
    "        abc.student_name = name\n",
    "        abc.student_number = number\n",
    "        abc.student_score = score"
   ]
  },
  {
   "cell_type": "code",
   "execution_count": 2,
   "id": "9cf95a1f",
   "metadata": {},
   "outputs": [],
   "source": [
    "student1 = Student(\"Sherif\", 9876, 99)"
   ]
  },
  {
   "cell_type": "code",
   "execution_count": 3,
   "id": "2fd23271",
   "metadata": {},
   "outputs": [
    {
     "ename": "AttributeError",
     "evalue": "'Student' object has no attribute 'name'",
     "output_type": "error",
     "traceback": [
      "\u001b[1;31m---------------------------------------------------------------------------\u001b[0m",
      "\u001b[1;31mAttributeError\u001b[0m                            Traceback (most recent call last)",
      "\u001b[1;32m~\\AppData\\Local\\Temp/ipykernel_7900/3965358984.py\u001b[0m in \u001b[0;36m<module>\u001b[1;34m\u001b[0m\n\u001b[1;32m----> 1\u001b[1;33m \u001b[0mstudent1\u001b[0m\u001b[1;33m.\u001b[0m\u001b[0mname\u001b[0m\u001b[1;33m\u001b[0m\u001b[1;33m\u001b[0m\u001b[0m\n\u001b[0m",
      "\u001b[1;31mAttributeError\u001b[0m: 'Student' object has no attribute 'name'"
     ]
    }
   ],
   "source": [
    "student1.name"
   ]
  },
  {
   "cell_type": "code",
   "execution_count": 6,
   "id": "a8c09518",
   "metadata": {},
   "outputs": [
    {
     "data": {
      "text/plain": [
       "'Sherif'"
      ]
     },
     "execution_count": 6,
     "metadata": {},
     "output_type": "execute_result"
    }
   ],
   "source": [
    "student1.student_name"
   ]
  },
  {
   "cell_type": "code",
   "execution_count": 7,
   "id": "af55cb5e",
   "metadata": {},
   "outputs": [
    {
     "data": {
      "text/plain": [
       "99"
      ]
     },
     "execution_count": 7,
     "metadata": {},
     "output_type": "execute_result"
    }
   ],
   "source": [
    "student1.student_score"
   ]
  },
  {
   "cell_type": "code",
   "execution_count": 8,
   "id": "c6ececba",
   "metadata": {},
   "outputs": [],
   "source": [
    "abc = Student(\"Mohammed\", 555, 0)"
   ]
  },
  {
   "cell_type": "code",
   "execution_count": 9,
   "id": "c589afd4",
   "metadata": {},
   "outputs": [
    {
     "data": {
      "text/plain": [
       "555"
      ]
     },
     "execution_count": 9,
     "metadata": {},
     "output_type": "execute_result"
    }
   ],
   "source": [
    "abc.student_number"
   ]
  },
  {
   "cell_type": "code",
   "execution_count": null,
   "id": "110a1279",
   "metadata": {},
   "outputs": [],
   "source": []
  }
 ],
 "metadata": {
  "kernelspec": {
   "display_name": "Python 3 (ipykernel)",
   "language": "python",
   "name": "python3"
  },
  "language_info": {
   "codemirror_mode": {
    "name": "ipython",
    "version": 3
   },
   "file_extension": ".py",
   "mimetype": "text/x-python",
   "name": "python",
   "nbconvert_exporter": "python",
   "pygments_lexer": "ipython3",
   "version": "3.8.5"
  }
 },
 "nbformat": 4,
 "nbformat_minor": 5
}
