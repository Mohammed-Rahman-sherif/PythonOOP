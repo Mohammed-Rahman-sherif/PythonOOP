{
 "cells": [
  {
   "cell_type": "code",
   "execution_count": 27,
   "id": "bcc18adb",
   "metadata": {},
   "outputs": [],
   "source": [
    "class Student:\n",
    "    def __init__(abc, name, number, score):\n",
    "        abc.student_name = name\n",
    "        abc.student_number = number\n",
    "        abc.student_score = score"
   ]
  },
  {
   "cell_type": "code",
   "execution_count": 28,
   "id": "cec92f36",
   "metadata": {},
   "outputs": [],
   "source": [
    "student1 = Student(\"Sherif\", 9876, 99)"
   ]
  },
  {
   "cell_type": "code",
   "execution_count": 29,
   "id": "fcb23850",
   "metadata": {},
   "outputs": [
    {
     "ename": "AttributeError",
     "evalue": "'Student' object has no attribute 'name'",
     "output_type": "error",
     "traceback": [
      "\u001b[1;31m---------------------------------------------------------------------------\u001b[0m",
      "\u001b[1;31mAttributeError\u001b[0m                            Traceback (most recent call last)",
      "\u001b[1;32m~\\AppData\\Local\\Temp/ipykernel_7900/3965358984.py\u001b[0m in \u001b[0;36m<module>\u001b[1;34m\u001b[0m\n\u001b[1;32m----> 1\u001b[1;33m \u001b[0mstudent1\u001b[0m\u001b[1;33m.\u001b[0m\u001b[0mname\u001b[0m\u001b[1;33m\u001b[0m\u001b[1;33m\u001b[0m\u001b[0m\n\u001b[0m",
      "\u001b[1;31mAttributeError\u001b[0m: 'Student' object has no attribute 'name'"
     ]
    }
   ],
   "source": [
    "student1.name"
   ]
  },
  {
   "cell_type": "code",
   "execution_count": 30,
   "id": "5cf39d60",
   "metadata": {},
   "outputs": [
    {
     "data": {
      "text/plain": [
       "'Sherif'"
      ]
     },
     "execution_count": 30,
     "metadata": {},
     "output_type": "execute_result"
    }
   ],
   "source": [
    "student1.student_name"
   ]
  },
  {
   "cell_type": "code",
   "execution_count": 31,
   "id": "b72343ba",
   "metadata": {},
   "outputs": [
    {
     "data": {
      "text/plain": [
       "99"
      ]
     },
     "execution_count": 31,
     "metadata": {},
     "output_type": "execute_result"
    }
   ],
   "source": [
    "student1.student_score"
   ]
  },
  {
   "cell_type": "code",
   "execution_count": 32,
   "id": "be21755e",
   "metadata": {},
   "outputs": [],
   "source": [
    "abc = Student(\"Mohammed\", 555, 0)"
   ]
  },
  {
   "cell_type": "code",
   "execution_count": 33,
   "id": "0479558d",
   "metadata": {},
   "outputs": [
    {
     "data": {
      "text/plain": [
       "555"
      ]
     },
     "execution_count": 33,
     "metadata": {},
     "output_type": "execute_result"
    }
   ],
   "source": [
    "abc.student_number"
   ]
  },
  {
   "cell_type": "code",
   "execution_count": null,
   "id": "ca7c77a4",
   "metadata": {},
   "outputs": [],
   "source": []
  }
 ],
 "metadata": {
  "kernelspec": {
   "display_name": "Python 3 (ipykernel)",
   "language": "python",
   "name": "python3"
  },
  "language_info": {
   "codemirror_mode": {
    "name": "ipython",
    "version": 3
   },
   "file_extension": ".py",
   "mimetype": "text/x-python",
   "name": "python",
   "nbconvert_exporter": "python",
   "pygments_lexer": "ipython3",
   "version": "3.8.5"
  }
 },
 "nbformat": 4,
 "nbformat_minor": 5
}
