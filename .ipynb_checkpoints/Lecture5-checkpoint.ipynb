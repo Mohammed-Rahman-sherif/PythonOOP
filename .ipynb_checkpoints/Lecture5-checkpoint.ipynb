{
 "cells": [
  {
   "cell_type": "code",
   "execution_count": 10,
   "id": "3570e9cb",
   "metadata": {},
   "outputs": [],
   "source": [
    "class Laptop:\n",
    "    def __init__(self, gpu_version, price):\n",
    "        self.gpu_version = gpu_version\n",
    "        self.price = price\n",
    "    \n",
    "    def test(self):\n",
    "        return        "
   ]
  },
  {
   "cell_type": "code",
   "execution_count": 11,
   "id": "c0ae12a5",
   "metadata": {},
   "outputs": [],
   "source": [
    "rtx2060 = Laptop('rtx_2060', 115000)"
   ]
  },
  {
   "cell_type": "code",
   "execution_count": 12,
   "id": "09427cef",
   "metadata": {},
   "outputs": [
    {
     "data": {
      "text/plain": [
       "<__main__.Laptop at 0x23ffadcebe0>"
      ]
     },
     "execution_count": 12,
     "metadata": {},
     "output_type": "execute_result"
    }
   ],
   "source": [
    "rtx2060"
   ]
  },
  {
   "cell_type": "code",
   "execution_count": 13,
   "id": "64dd8caf",
   "metadata": {},
   "outputs": [
    {
     "data": {
      "text/plain": [
       "{'gpu_version': 'rtx_2060', 'price': 115000}"
      ]
     },
     "execution_count": 13,
     "metadata": {},
     "output_type": "execute_result"
    }
   ],
   "source": [
    "rtx2060.__dict__"
   ]
  },
  {
   "cell_type": "code",
   "execution_count": 14,
   "id": "85d6e355",
   "metadata": {},
   "outputs": [],
   "source": [
    "rtx2060.RAM = '16GB'"
   ]
  },
  {
   "cell_type": "code",
   "execution_count": 15,
   "id": "417f18ad",
   "metadata": {},
   "outputs": [
    {
     "data": {
      "text/plain": [
       "{'gpu_version': 'rtx_2060', 'price': 115000, 'RAM': '16GB'}"
      ]
     },
     "execution_count": 15,
     "metadata": {},
     "output_type": "execute_result"
    }
   ],
   "source": [
    "rtx2060.__dict__"
   ]
  },
  {
   "cell_type": "code",
   "execution_count": 17,
   "id": "76747382",
   "metadata": {},
   "outputs": [],
   "source": [
    "def sample(a, b, c):\n",
    "    d = a+b+c\n",
    "    return d"
   ]
  },
  {
   "cell_type": "code",
   "execution_count": 19,
   "id": "9601e505",
   "metadata": {},
   "outputs": [
    {
     "data": {
      "text/plain": [
       "12"
      ]
     },
     "execution_count": 19,
     "metadata": {},
     "output_type": "execute_result"
    }
   ],
   "source": [
    "sample(5, 4, 3)"
   ]
  },
  {
   "cell_type": "code",
   "execution_count": 20,
   "id": "c6833ae8",
   "metadata": {},
   "outputs": [
    {
     "data": {
      "text/plain": [
       "{}"
      ]
     },
     "execution_count": 20,
     "metadata": {},
     "output_type": "execute_result"
    }
   ],
   "source": [
    "sample.__dict__"
   ]
  },
  {
   "cell_type": "code",
   "execution_count": null,
   "id": "60170244",
   "metadata": {},
   "outputs": [],
   "source": []
  }
 ],
 "metadata": {
  "kernelspec": {
   "display_name": "Python 3 (ipykernel)",
   "language": "python",
   "name": "python3"
  },
  "language_info": {
   "codemirror_mode": {
    "name": "ipython",
    "version": 3
   },
   "file_extension": ".py",
   "mimetype": "text/x-python",
   "name": "python",
   "nbconvert_exporter": "python",
   "pygments_lexer": "ipython3",
   "version": "3.8.5"
  }
 },
 "nbformat": 4,
 "nbformat_minor": 5
}
