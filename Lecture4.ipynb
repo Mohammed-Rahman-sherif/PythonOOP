{
 "cells": [
  {
   "cell_type": "code",
   "execution_count": 5,
   "id": "9c9c829c",
   "metadata": {},
   "outputs": [],
   "source": [
    "class Student:\n",
    "    def __init__(self, name, mark):\n",
    "        self.name = name\n",
    "        self.mark = mark\n",
    "    \n",
    "    def result(self):\n",
    "        if self.mark >= 500:\n",
    "            return 'Pass'\n",
    "        else:\n",
    "            return 'Fail'"
   ]
  },
  {
   "cell_type": "code",
   "execution_count": 6,
   "id": "3a96849a",
   "metadata": {},
   "outputs": [],
   "source": [
    "s1 = Student(\"Sherif\", 40)\n",
    "s2 = Student(\"Rahman\", 45)\n",
    "s3 = Student(\"Mohammed\", 100)\n",
    "s4 = Student(\"Teenu\", 10)\n",
    "s5 = Student(\"Navin\", 70)"
   ]
  },
  {
   "cell_type": "code",
   "execution_count": 7,
   "id": "b297baef",
   "metadata": {},
   "outputs": [
    {
     "data": {
      "text/plain": [
       "40"
      ]
     },
     "execution_count": 7,
     "metadata": {},
     "output_type": "execute_result"
    }
   ],
   "source": [
    "s1.mark"
   ]
  },
  {
   "cell_type": "code",
   "execution_count": 9,
   "id": "e6610475",
   "metadata": {},
   "outputs": [],
   "source": [
    "student_obj = [s1, s2, s3, s4, s5]"
   ]
  },
  {
   "cell_type": "code",
   "execution_count": 24,
   "id": "f793ecc8",
   "metadata": {},
   "outputs": [],
   "source": [
    "passStudents = []\n",
    "failStudents = []\n",
    "\n",
    "result = {}\n",
    "\n",
    "for x in student_obj:\n",
    "    if x.mark > 50:\n",
    "        passStudents.append(x.name)\n",
    "        result['pass_out'] = passStudents\n",
    "    else:\n",
    "        failStudents.append(x.name)\n",
    "        result['fail_out'] = failStudents"
   ]
  },
  {
   "cell_type": "code",
   "execution_count": 25,
   "id": "5b1fdad5",
   "metadata": {},
   "outputs": [
    {
     "data": {
      "text/plain": [
       "{'fail_out': ['Sherif', 'Rahman', 'Teenu'], 'pass_out': ['Mohammed', 'Navin']}"
      ]
     },
     "execution_count": 25,
     "metadata": {},
     "output_type": "execute_result"
    }
   ],
   "source": [
    "result"
   ]
  },
  {
   "cell_type": "code",
   "execution_count": 26,
   "id": "8a1eb7a8",
   "metadata": {},
   "outputs": [
    {
     "data": {
      "text/plain": [
       "dict"
      ]
     },
     "execution_count": 26,
     "metadata": {},
     "output_type": "execute_result"
    }
   ],
   "source": [
    "type(result)"
   ]
  },
  {
   "cell_type": "code",
   "execution_count": 27,
   "id": "b2f86052",
   "metadata": {},
   "outputs": [
    {
     "data": {
      "text/plain": [
       "list"
      ]
     },
     "execution_count": 27,
     "metadata": {},
     "output_type": "execute_result"
    }
   ],
   "source": [
    "type(passStudents)"
   ]
  },
  {
   "cell_type": "code",
   "execution_count": 28,
   "id": "4f01cef8",
   "metadata": {},
   "outputs": [
    {
     "data": {
      "text/plain": [
       "['Mohammed', 'Navin']"
      ]
     },
     "execution_count": 28,
     "metadata": {},
     "output_type": "execute_result"
    }
   ],
   "source": [
    "passStudents"
   ]
  },
  {
   "cell_type": "code",
   "execution_count": 29,
   "id": "6e060904",
   "metadata": {},
   "outputs": [
    {
     "data": {
      "text/plain": [
       "['Sherif', 'Rahman', 'Teenu']"
      ]
     },
     "execution_count": 29,
     "metadata": {},
     "output_type": "execute_result"
    }
   ],
   "source": [
    "failStudents"
   ]
  },
  {
   "cell_type": "code",
   "execution_count": null,
   "id": "cf164892",
   "metadata": {},
   "outputs": [],
   "source": []
  }
 ],
 "metadata": {
  "kernelspec": {
   "display_name": "Python 3 (ipykernel)",
   "language": "python",
   "name": "python3"
  },
  "language_info": {
   "codemirror_mode": {
    "name": "ipython",
    "version": 3
   },
   "file_extension": ".py",
   "mimetype": "text/x-python",
   "name": "python",
   "nbconvert_exporter": "python",
   "pygments_lexer": "ipython3",
   "version": "3.8.5"
  }
 },
 "nbformat": 4,
 "nbformat_minor": 5
}
